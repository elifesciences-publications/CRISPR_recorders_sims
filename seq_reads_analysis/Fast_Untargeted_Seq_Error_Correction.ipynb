{
 "cells": [
  {
   "cell_type": "markdown",
   "metadata": {},
   "source": [
    "# This is a script to read the sequencing results from the first construct (PGM_1.0 repeat) \n",
    "## Notebook started on the 10th April 2017\n",
    "\n",
    "\n",
    "The construct has 32 repeats that are a series of Emx1.6 targets with 0-1-2 mismatches from the perfect target site (1-16). \n",
    "The same targets are repeated in 17-32 but in this case they have a TAG PAM instead of a TGG.\n",
    "\n",
    "From the first experiment, it was decided that 2 different targets would be selected, a Fast target and a Slow target.\n",
    "The Fast target correspond to the target #16 in the construct, which is the \"perfect target\" (EMx1.6 target).\n",
    "The slow target is the target #1 in the construct.\n",
    "\n",
    "\n",
    "\n",
    "#### The construct was tested in 4 different conditions:\n",
    "-Embryos\n",
    "\n",
    "-Larva (male and Female)\n",
    "\n",
    "-Adult (male and Female)\n",
    "\n",
    "-unmutated target\n",
    "\n",
    "## Sequencing using amplicons\n",
    "\n",
    "The “Amplicon” files contain the results of sequencing by PCR.\n",
    "\n",
    "The repeats were sequenced in triplets, so the first 3 are sequenced in “amplicon 1” and so on..\n",
    "So the Slow target is contained in “Amplicon 1” and the fast target is contained in “Amplicon 6”.\n",
    "\n",
    "#### The sequencing primers for the Fast target are:\n",
    "\n",
    "5' TTGAGAAGATAGACAGAATATGCGC 3'\n",
    "\n",
    "5' TGAGACCGACCCTGACCTGATG 3'\n",
    "\n",
    "\n",
    "\n",
    "## Check the mutation rate for the Untargeted-Fast\n",
    "\n",
    "In here, I will only focus on the sequencing of the Fast target of the Untargeted conditions.\n",
    "\n",
    "### I will manually correct for what we consider a sequencing error:\n",
    "\n",
    "#### THE 3' \"PRIMER\" WILL BE JUST AFTER THE PAM, AND WILL INCLUDE THE POSSIBILITY OF HAVING THE SINGLE NUCLEOTIDE DELETIONS FOUND ON THE UNMUTATED TARGET. These are the 4 posibilities\n",
    "\n",
    "TGGAGTACTGCTGAGACCGAC\n",
    "\n",
    "T-GAGTACTGCTGAGACCGAC\n",
    "\n",
    "TGGAG-ACTGCTGAGACCGAC\n",
    "\n",
    "T-GAG-ACTGCTGAGACCGAC\n",
    "\n",
    "### The read should be at least 100 pb to consider it\n",
    "\n",
    "For the fast target, this is the whole sequenced repeat:\n",
    "\n",
    "( | primer | target | spacer | primer)\n",
    "\n",
    "ttgagaagatagacagaatatgcgc gcgccaccggttgatgtgattgg agtactgc tgagaccgaccctgacctgatg\n",
    "\n",
    "### This is the construct\n",
    "\n",
    "![PGM_1.0_repeats](PGM_1.0_repeats_small.jpg)\n",
    "\n"
   ]
  },
  {
   "cell_type": "code",
   "execution_count": 1,
   "metadata": {
    "collapsed": true
   },
   "outputs": [],
   "source": [
    "import sys\n",
    "sys.path.insert(0, \"/usr/lib/python3/dist-packages\")\n",
    "sys.path.insert(0, \"/home/irsalvad/.local/lib/python3.5/site-packages\")\n",
    "#print('\\n'.join(sys.path))"
   ]
  },
  {
   "cell_type": "markdown",
   "metadata": {},
   "source": [
    "## First, load the packages to use\n"
   ]
  },
  {
   "cell_type": "code",
   "execution_count": 2,
   "metadata": {
    "collapsed": true
   },
   "outputs": [],
   "source": [
    "from Bio.Seq import Seq\n",
    "from Bio.Alphabet import generic_dna\n",
    "import random\n",
    "from collections import Counter\n",
    "random.seed(123)\n",
    "\n",
    "import matplotlib.pyplot as plt\n",
    "import numpy as np\n",
    "import numpy\n",
    "\n",
    "\n",
    "import math\n",
    "from matplotlib import gridspec\n"
   ]
  },
  {
   "cell_type": "markdown",
   "metadata": {},
   "source": [
    "\n",
    "## Open the amplicon file\n",
    "\n",
    "As a first step I need to open the file with the results for the \"Untargeted-Fast\". \n",
    "\n",
    "This is in the file ('/Barcode-repeat-split/Untargeted/Untargeted_Amplicon6.txt') provided in the dryad repository (see manuscript for details).\n",
    "\n",
    "Display the first 6 lines of the file\n"
   ]
  },
  {
   "cell_type": "code",
   "execution_count": 3,
   "metadata": {},
   "outputs": [
    {
     "name": "stdout",
     "output_type": "stream",
     "text": [
      "(line 0) >QP75T:00025:00031\n",
      "\n",
      "(line 1) TTGAGAAGATAGACAGAATATGCGCGCGCCACCGGTTGATGTGATTGAGACTCGCGCGATCG\n",
      "\n",
      "(line 2) >QP75T:00027:00042\n",
      "\n",
      "(line 3) TTGAGAAGATAGACAGAATATGCGCGCGCCACCGGTTGATGTGATTGAGACTGCTCGAGACGA\n",
      "\n",
      "(line 4) >QP75T:00040:00025\n",
      "\n",
      "(line 5) TTGAGAAGATAGACAGAATATGCGCGCGCCACCAATTGATGTGATTAGAGACCTTGCCCGATGCCTGACTAGAAGACCGAA\n",
      "\n"
     ]
    }
   ],
   "source": [
    "input_file ='../Barcode-repeat-split/Untargeted/Untargeted_Amplicon6.txt'\n",
    "Amplicon6 = open(file= input_file)\n",
    "\n",
    "for x in range(0,6):\n",
    "    print(\"(line %d)\" % (x), Amplicon6.readline())\n",
    "Amplicon6.close()"
   ]
  },
  {
   "cell_type": "markdown",
   "metadata": {},
   "source": [
    "## Upload the primers and define the full construct sequence"
   ]
  },
  {
   "cell_type": "code",
   "execution_count": 4,
   "metadata": {},
   "outputs": [
    {
     "name": "stdout",
     "output_type": "stream",
     "text": [
      "my primer 5' is TTGAGAAGATAGACAGAATATGCGC\n"
     ]
    }
   ],
   "source": [
    "primer5 = \"TTGAGAAGATAGACAGAATATGCGC\"\n",
    "\n",
    "primer3_1 = \"TGGAGTACTGCTGAGACCGA\"\n",
    "Full_1 = \"TTGAGAAGATAGACAGAATATGCGCGCGCCACCGGTTGATGTGATTGGAGTACTGCTGAGACCGA\"\n",
    "\n",
    "primer3_2 = \"TGAGTACTGCTGAGACCGA\"\n",
    "Full_2 = \"TTGAGAAGATAGACAGAATATGCGCGCGCCACCGGTTGATGTGATTGAGTACTGCTGAGACCGA\"\n",
    "\n",
    "primer3_3 = \"TGGAGACTGCTGAGACCGA\"\n",
    "Full_3 = \"TTGAGAAGATAGACAGAATATGCGCGCGCCACCGGTTGATGTGATTGGAGACTGCTGAGACCGA\"\n",
    "\n",
    "primer3_4 = \"TGAGACTGCTGAGACCGA\"\n",
    "Full_4 = \"TTGAGAAGATAGACAGAATATGCGCGCGCCACCGGTTGATGTGATTGAGACTGCTGAGACCGA\"\n",
    "\n",
    "target = \"TGATGTGAT\"\n",
    "print(\"my primer 5' is\", primer5)"
   ]
  },
  {
   "cell_type": "markdown",
   "metadata": {},
   "source": [
    "## Define a function to find the primers in each amplified sequence\n",
    "\n",
    "The function takes a line of the file as the input and fisrt check for each base if it matches with the first primer base. If it matches, then looks if the entire primer sequence matches.\n",
    "\n",
    "Then open the file line by line to search for the primer sequence\n"
   ]
  },
  {
   "cell_type": "code",
   "execution_count": 5,
   "metadata": {
    "collapsed": true
   },
   "outputs": [],
   "source": [
    "## This is the function\n",
    "\n",
    "def find_Primers(dna,my_p5,my_p3):\n",
    "    p5=0; p3=0;\n",
    "    substr = my_p5;\n",
    "    for p in range(len(dna)):\n",
    "        if dna[p] == substr[0]:\n",
    "            if dna[p:p + len(substr)] == substr:\n",
    "                p5=p\n",
    "    substr = my_p3;\n",
    "    for p in range(len(dna)):\n",
    "        if dna[p] == substr[0]:\n",
    "            if dna[p:p + len(substr)] == substr:\n",
    "                p3=p + len(substr)\n",
    "    return p5, p3"
   ]
  },
  {
   "cell_type": "markdown",
   "metadata": {},
   "source": [
    "\n",
    "## Read the file and search line by line for the primers\n",
    "\n",
    "As the file contains the amplified sequence name and then the sequence in the next line read each pair-numbered line (in python would be even-numbered as it starts from 0)\n",
    "\n",
    "Using the function defined previously, search for both primers. The function returns the location of the most 5' and 3' locations of the primers, so the sequence can be spliced.\n",
    "\n",
    "### All sequences found, are appended to the list \"my_seqs\", which will be used for further analysis.\n",
    "### Find the proportion of Unmutated sequences in \"my_seqs\" and store it as a variable (\"No_mut\")\n",
    "\n",
    "\n",
    "\n",
    "(as a test print the fist 5 sequences found)"
   ]
  },
  {
   "cell_type": "code",
   "execution_count": 6,
   "metadata": {
    "scrolled": true
   },
   "outputs": [
    {
     "name": "stdout",
     "output_type": "stream",
     "text": [
      "line 1 TTGAGAAGATAGACAGAATATGCGCGCGCCACCGGTTGATGTGATTGGAGTACTGCTGAGACCGA\n",
      "\n",
      "Number of unmutated targets = 5417   proportion is 0.9701\n",
      "\n",
      "Total number of targets is  5584\n"
     ]
    }
   ],
   "source": [
    "Amplicon6 = open(file= input_file)\n",
    "\n",
    "my_seqs = list()\n",
    "primer_ends = 0\n",
    "c=0 \n",
    "\n",
    "for i, line in enumerate(Amplicon6):\n",
    "    ## filter out all seqs with length less than 100\n",
    "    if (i % 2 != 0) and (len(line)>=100):\n",
    "        \n",
    "        ## primer 3_1\n",
    "        primer_ends = find_Primers(line,primer5,primer3_1)\n",
    "        if primer_ends != (0,0) :\n",
    "            s = line[primer_ends[0]:primer_ends[1]]\n",
    "            my_seqs.append(s); x = s.find(Full_1)\n",
    "            if x >= 0: c = c+1\n",
    "        ## primer 3_2\n",
    "        primer_ends = find_Primers(line,primer5,primer3_2)\n",
    "        if primer_ends != (0,0) :\n",
    "            s = line[primer_ends[0]:primer_ends[1]]\n",
    "            my_seqs.append(s); x = s.find(Full_2)\n",
    "            if x >= 0: c = c+1\n",
    "        ## primer 3_3\n",
    "        primer_ends = find_Primers(line,primer5,primer3_3)\n",
    "        if primer_ends != (0,0) :\n",
    "            s = line[primer_ends[0]:primer_ends[1]]\n",
    "            my_seqs.append(s); x = s.find(Full_3)\n",
    "            if x >= 0: c = c+1\n",
    "        ## primer 3_4\n",
    "        primer_ends = find_Primers(line,primer5,primer3_4)\n",
    "        if primer_ends != (0,0) :\n",
    "            s = line[primer_ends[0]:primer_ends[1]]\n",
    "            my_seqs.append(s); x = s.find(Full_4)\n",
    "            if x >= 0: c = c+1\n",
    "            \n",
    "                \n",
    "No_mut = c/len(my_seqs)\n",
    "            \n",
    "Amplicon6.close()\n",
    "\n",
    "for i in range(1): print(\"line\",i+1, my_seqs[i])\n",
    "\n",
    "print(\"\\nNumber of unmutated targets =\",c,\"  proportion is %.4g\" % (No_mut))\n",
    "print(\"\\nTotal number of targets is \", len(my_seqs))\n"
   ]
  },
  {
   "cell_type": "code",
   "execution_count": 7,
   "metadata": {
    "collapsed": true
   },
   "outputs": [],
   "source": [
    "#out1 = open(\"my_seqs.txt\",\"w\") \n",
    "#for index, item in enumerate(my_seqs): \n",
    "#    out1.write(my_seqs[index])\n",
    "#    out1.write(\"\\n\")\n",
    "#out1.close()"
   ]
  },
  {
   "cell_type": "markdown",
   "metadata": {},
   "source": [
    "\n",
    "## Define a function to search for the position of the primer\n",
    "\n",
    "#### The output of the function is the first nucleotide of the seq primer. This will be used to read the Nmers\n"
   ]
  },
  {
   "cell_type": "code",
   "execution_count": 7,
   "metadata": {
    "collapsed": true
   },
   "outputs": [],
   "source": [
    "def find_target(dna,myprimer3):\n",
    "    sub = None\n",
    "    substr = myprimer3\n",
    "    for p in range(len(dna)):\n",
    "        if dna[p] == substr[0]:\n",
    "            if dna[p:p + len(substr)] == substr:\n",
    "                sub=p\n",
    "    return sub"
   ]
  },
  {
   "cell_type": "markdown",
   "metadata": {},
   "source": [
    "# Get all possible sequences from the sequencing primer if you read 9bp from the 3' primer\n",
    "\n",
    "This is to know how many different deletions we have, and what is their distribution (e.g., is there one copy that is found in 25% of the sequences?\n"
   ]
  },
  {
   "cell_type": "code",
   "execution_count": 8,
   "metadata": {},
   "outputs": [
    {
     "name": "stdout",
     "output_type": "stream",
     "text": [
      "number of Nmers: 18 total: 5584 \n",
      "\n"
     ]
    }
   ],
   "source": [
    "Nmer_pb = 9 ## Number of nucleotides in the target\n",
    "N_unique = 0;\n",
    "c= 0;\n",
    "Nmer_LIST=list();\n",
    "## Search in all amplified sequences:\n",
    "for s in range(len(my_seqs)):\n",
    "    seq = my_seqs[s]\n",
    "    # primer 3_1\n",
    "    x = find_target(seq,primer3_1)\n",
    "    if x != None:             # if the primer can be found in the amplified sequence\n",
    "        c = c + 1; Nmer_LIST.append(seq[x-Nmer_pb:x])\n",
    "    # primer 3_2\n",
    "    x = find_target(seq,primer3_2)\n",
    "    if x != None:             # if the primer can be found in the amplified sequence\n",
    "        c = c + 1; Nmer_LIST.append(seq[x-Nmer_pb:x])\n",
    "    # primer 3_3\n",
    "    x = find_target(seq,primer3_3)\n",
    "    if x != None:             # if the primer can be found in the amplified sequence\n",
    "        c = c + 1; Nmer_LIST.append(seq[x-Nmer_pb:x])\n",
    "    # primer 3_4\n",
    "    x = find_target(seq,primer3_4)\n",
    "    if x != None:             # if the primer can be found in the amplified sequence\n",
    "        c = c + 1; Nmer_LIST.append(seq[x-Nmer_pb:x])\n",
    "\n",
    "UniqueNmers = set(Nmer_LIST)\n",
    "N_unique = len(UniqueNmers)\n",
    "\n",
    "Nmer_TOTALS = c;\n",
    "print(\"number of Nmers:\", len(UniqueNmers), \"total:\", Nmer_TOTALS,\"\\n\") \n",
    "#print(c, N_unique, UniqueNmers)\n"
   ]
  },
  {
   "cell_type": "markdown",
   "metadata": {},
   "source": [
    "# Get the frequency of each of the Nmers for all the sites\n",
    "### Use the unmutated proportion of targets as a reference. The ideal would be to have the lowest possible frequency of the \"unmutated\" Nmer, and that get many mutated Nmers at a frequency that is informative"
   ]
  },
  {
   "cell_type": "code",
   "execution_count": 9,
   "metadata": {},
   "outputs": [
    {
     "name": "stdout",
     "output_type": "stream",
     "text": [
      "[[1, 1, 1, 1, 1, 1, 1, 1, 1, 2, 2, 2, 3, 3, 6, 13, 22, 5522]]\n"
     ]
    }
   ],
   "source": [
    "Sorted_Lists_Vals = list()\n",
    "Sorted_Lists_Labs = list()\n",
    "Original_Nmers = list()\n",
    "\n",
    "Unique_Nmer_freq= list()\n",
    "\n",
    "### Get the real Nmer\n",
    "Nmer_seq = target\n",
    "\n",
    "UniqueList = list(UniqueNmers)\n",
    "#print(\"for \", \"distance:\", len(UniqueList), \"\\n\") \n",
    "\n",
    "## The Nmer_List contains all Nmers, search the frequency of each unique Nmer (uniques are in UniqueList)\n",
    "Nmer_freq=list()\n",
    "for i in range(len(UniqueList)):\n",
    "    Unique_Nmer_freq.append([UniqueList[i],\n",
    "                  #           '{:04d}'.format(Nmer_LIST.count(UniqueList[i]))]\n",
    "                             Nmer_LIST.count(UniqueList[i])])\n",
    "    #print(Unique_Nmer_freq)\n",
    "Sorted_Unique = sorted(Unique_Nmer_freq, key=lambda Unique_Nmer_freq: Unique_Nmer_freq[1])\n",
    "Sorted_Unique_labs = [item[0] for item in Sorted_Unique]\n",
    "Sorted_Unique_vals = [item[1] for item in Sorted_Unique]\n",
    "\n",
    "Sorted_Lists_Vals.append(Sorted_Unique_vals)\n",
    "Sorted_Lists_Labs.append(Sorted_Unique_labs)\n",
    "   \n",
    "print(Sorted_Lists_Vals)\n",
    "#print(Sorted_Lists_Labs)\n"
   ]
  },
  {
   "cell_type": "markdown",
   "metadata": {},
   "source": [
    "## Plot all the Nmer freqs \n",
    "\n",
    "In the plot below, the frequency (Yaxis) of each Nmer (Xaxis) is shown. The Nmers are sorted from low to high frequency to see ir more clearly. In red we can see the proportion of Nmers with a sequence equal to the \"unmutated\" Nmer (Could be the unmutated or not).\n",
    "As a dashed vertical line, we can see the real proportion of unmutated sequences."
   ]
  },
  {
   "cell_type": "code",
   "execution_count": 11,
   "metadata": {
    "scrolled": true
   },
   "outputs": [
    {
     "name": "stdout",
     "output_type": "stream",
     "text": [
      "Freq of the most common Nmer: 0.9889 \t the unmutated total: 5522 proportion : 0.9889\n"
     ]
    },
    {
     "data": {
      "image/png": "[encoded data removed]",
      "text/plain": [
       "<matplotlib.figure.Figure at 0x7fb5a54c0940>"
      ]
     },
     "metadata": {},
     "output_type": "display_data"
    }
   ],
   "source": [
    "Vals = Sorted_Lists_Vals[0]\n",
    "    \n",
    "Labs = Sorted_Lists_Labs[0]\n",
    "    \n",
    "Rel_Vals = list()\n",
    "for index, item in enumerate(Vals):\n",
    "    Rel_Vals.append(Vals[index]/Nmer_TOTALS)\n",
    "        \n",
    "plt.plot(Rel_Vals)\n",
    "plt.xlabel('Nmer rank index')\n",
    "plt.ylabel('freq')\n",
    "plt.title('Nmer Freq')\n",
    "plt.grid(True)\n",
    "#plt.axvline(x=Nmer90, ymin=0, ymax=1,linewidth=1, c='black', hold=None,linestyle=\"dashed\")\n",
    "\n",
    "plt.axhline(y=No_mut, xmin=0, xmax=1,linewidth=2, c='black', hold=None,linestyle=\"dashed\")\n",
    "## plot the sequence that is the same as the unmutated one\n",
    "for index, item in enumerate(Labs):\n",
    "    if item == target:\n",
    "        #ax.annotate(Nmer,(index,Vals[index]), size = 14,color = \"r\")\n",
    "        plt.scatter(index,Rel_Vals[index],s=30,c=\"r\")\n",
    "        if Rel_Vals[index] < 1 :\n",
    "            print(\"Freq of the most common Nmer: %.5g\" % (max(Vals)/Nmer_TOTALS),\n",
    "                  \"\\t the unmutated total:\", Vals[index],\"proportion : %.5g\" % (Vals[index]/Nmer_TOTALS) )\n",
    "\n",
    "ax = plt.gca()\n",
    "\n",
    "plt.show()"
   ]
  },
  {
   "cell_type": "markdown",
   "metadata": {},
   "source": [
    "# Important for the simulations:\n",
    "\n",
    "## Probability of a seq Error (After N cell cycles):\n",
    "\n",
    "#### APROXIMATION USING NMERS    (1- unmutated Nmer )       = 1 - 0.9889 = 0.0111\n",
    "\n"
   ]
  }
 ],
 "metadata": {
  "kernelspec": {
   "display_name": "Python 3",
   "language": "python",
   "name": "python3"
  },
  "language_info": {
   "codemirror_mode": {
    "name": "ipython",
    "version": 3
   },
   "file_extension": ".py",
   "mimetype": "text/x-python",
   "name": "python",
   "nbconvert_exporter": "python",
   "pygments_lexer": "ipython3",
   "version": "3.6.1"
  }
 },
 "nbformat": 4,
 "nbformat_minor": 2
}
