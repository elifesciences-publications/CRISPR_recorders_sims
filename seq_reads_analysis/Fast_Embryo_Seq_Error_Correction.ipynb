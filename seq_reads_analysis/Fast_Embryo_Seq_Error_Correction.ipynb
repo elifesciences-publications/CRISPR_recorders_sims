{
 "cells": [
  {
   "cell_type": "markdown",
   "metadata": {},
   "source": [
    "# This is a script to read the sequencing results from the first construct (PGM_1.0 repeat) \n",
    "### Notebook [started on the 7th April 2017] modified on 11th Oct\n",
    "\n",
    "\n",
    "The construct has 32 repeats that are a series of Emx1.6 targets with 0-1-2 mismatches from the perfect target site (1-16). \n",
    "The same targets are repeated in 17-32 but in this case they have a TAG PAM instead of a TGG.\n",
    "\n",
    "From the first experiment, it was decided that 2 different targets would be selected, a Fast target and a Slow target.\n",
    "The Fast target correspond to the target #16 in the construct, which is the \"perfect target\" (EMx1.6 target).\n",
    "The slow target is the target #1 in the construct.\n",
    "\n",
    "\n",
    "\n",
    "#### The construct was tested in 4 different conditions:\n",
    "-Embryos\n",
    "\n",
    "-Larva (male and Female)\n",
    "\n",
    "-Adult (male and Female)\n",
    "\n",
    "-unmutated target\n",
    "\n",
    "## Sequencing using amplicons\n",
    "\n",
    "The “Amplicon” files contain the results of sequencing by PCR.\n",
    "\n",
    "The repeats were sequenced in triplets, so the first 3 are sequenced in “amplicon 1” and so on..\n",
    "So the Slow target is contained in “Amplicon 1” and the fast target is contained in “Amplicon 6”.\n",
    "\n",
    "#### The sequencing primers for the Fast target are:\n",
    "\n",
    "5' TTGAGAAGATAGACAGAATATGCGC 3'\n",
    "\n",
    "5' TGAGACCGACCCTGACCTGATG 3'\n",
    "\n",
    "\n",
    "\n",
    "## Check the mutation rate for the Embryo-Fast\n",
    "\n",
    "In here, I will only focus on the sequencing of the Fast target of the embryo conditions.\n",
    "\n",
    "### I will manually correct for what we consider a sequencing error:\n",
    "\n",
    "#### THE 3' \"PRIMER\" WILL BE JUST AFTER THE PAM, AND WILL INCLUDE THE POSSIBILITY OF HAVING THE SINGLE NUCLEOTIDE DELETIONS FOUND ON THE UNMUTATED TARGET. These are the 4 posibilities\n",
    "\n",
    "TGGAGTACTGCTGAGACCGAC\n",
    "\n",
    "T-GAGTACTGCTGAGACCGAC\n",
    "\n",
    "TGGAG-ACTGCTGAGACCGAC\n",
    "\n",
    "T-GAG-ACTGCTGAGACCGAC\n",
    "\n",
    "### The read should be at least 100 pb to consider it\n",
    "\n",
    "For the fast target, this is the whole sequenced repeat:\n",
    "\n",
    "( | primer | target | spacer | primer)\n",
    "\n",
    "ttgagaagatagacagaatatgcgc gcgccaccggttgatgtgattgg agtactgc tgagaccgaccctgacctgatg\n",
    "\n",
    "### This is the construct\n",
    "\n",
    "![PGM_1.0_repeats](PGM_1.0_repeats_small.jpg)\n",
    "\n"
   ]
  },
  {
   "cell_type": "code",
   "execution_count": 1,
   "metadata": {
    "collapsed": true
   },
   "outputs": [],
   "source": [
    "import sys\n",
    "sys.path.insert(0, \"/usr/lib/python3/dist-packages\")\n",
    "sys.path.insert(0, \"/home/irepan/software/anaconda3/lib/python3.6/site-packages\")\n",
    "sys.path.insert(0, \"/usr/local/lib/python2.7/dist-packages/\")\n",
    "#print('\\n'.join(sys.path))"
   ]
  },
  {
   "cell_type": "code",
   "execution_count": null,
   "metadata": {
    "collapsed": true
   },
   "outputs": [],
   "source": []
  },
  {
   "cell_type": "markdown",
   "metadata": {},
   "source": [
    "## First, load the packages to use\n"
   ]
  },
  {
   "cell_type": "code",
   "execution_count": 2,
   "metadata": {
    "collapsed": true
   },
   "outputs": [],
   "source": [
    "from Bio.Seq import Seq\n",
    "from Bio.Alphabet import generic_dna\n",
    "import random\n",
    "from collections import Counter\n",
    "random.seed(123)\n",
    "\n",
    "import matplotlib.pyplot as plt\n",
    "import numpy as np\n",
    "import numpy\n",
    "\n",
    "\n",
    "import math\n",
    "from matplotlib import gridspec\n"
   ]
  },
  {
   "cell_type": "markdown",
   "metadata": {},
   "source": [
    "\n",
    "## Open the amplicon file\n",
    "\n",
    "As a first step I need to open the file with the results for the \"Embryo-Fast\". \n",
    "\n",
    "This is in the file ('/Barcode-repeat-split/Embryos/Embryos_Amplicon6.txt') found in the dryad repository indicated in the manuscript.\n",
    "\n",
    "Display the first 6 lines of the file\n"
   ]
  },
  {
   "cell_type": "code",
   "execution_count": 3,
   "metadata": {},
   "outputs": [
    {
     "name": "stdout",
     "output_type": "stream",
     "text": [
      "(line 0) >QP75T:00045:00021\n",
      "\n",
      "(line 1) TTGAGAAGATAGACAGAATATGCGCGCGCCATTGGTTGATGTGATTAGAGTTCCAGCCCATACCCGATTCAGAGAGAGAGCAGTCCGACTGACGGAATAGACGATGCCACCACCTGAAGCATCGCGCACAAT\n",
      "\n",
      "(line 2) >QP75T:00010:00094\n",
      "\n",
      "(line 3) TTGAGAAGATAGACAGAATATGC\n",
      "\n",
      "(line 4) >QP75T:00012:00070\n",
      "\n",
      "(line 5) TTGAGAAGATAGACAGAATATGCGCGCGCCACCGGTTGATTGGTATCTGCCTGAGACGAGACGAACTGCCTTCCGAAGATGACTGTCAGAGATTAGAGCACCGTACCCGATCCGAAATGTCCGCGCCATTGGTTGATGTGATTAGAGTTCCAGCCCATACCCGATTCAGAGAGAGAGCAGTCCCGACTGACGGAATAGACGATGCCCACCCACCCTGAAGATGCCGCCACCCA\n",
      "\n"
     ]
    }
   ],
   "source": [
    "input_file ='../Barcode-repeat-split/Embryos/Embryos_Amplicon6.txt'\n",
    "Amplicon6 = open(file= input_file)\n",
    "\n",
    "for x in range(0,6):\n",
    "    print(\"(line %d)\" % (x), Amplicon6.readline())\n",
    "Amplicon6.close()"
   ]
  },
  {
   "cell_type": "markdown",
   "metadata": {},
   "source": [
    "## Upload the primers and define the full construct sequence"
   ]
  },
  {
   "cell_type": "code",
   "execution_count": 4,
   "metadata": {},
   "outputs": [
    {
     "name": "stdout",
     "output_type": "stream",
     "text": [
      "my primer 5' is TTGAGAAGATAGACAGAATATGCGC\n"
     ]
    }
   ],
   "source": [
    "primer5 = \"TTGAGAAGATAGACAGAATATGCGC\"\n",
    "\n",
    "primer3_1 = \"TGGAGTACTGCTGAGACCGA\"\n",
    "Full_1 = \"TTGAGAAGATAGACAGAATATGCGCGCGCCACCGGTTGATGTGATTGGAGTACTGCTGAGACCGA\"\n",
    "\n",
    "primer3_2 = \"TGAGTACTGCTGAGACCGA\"\n",
    "Full_2 = \"TTGAGAAGATAGACAGAATATGCGCGCGCCACCGGTTGATGTGATTGAGTACTGCTGAGACCGA\"\n",
    "\n",
    "primer3_3 = \"TGGAGACTGCTGAGACCGA\"\n",
    "Full_3 = \"TTGAGAAGATAGACAGAATATGCGCGCGCCACCGGTTGATGTGATTGGAGACTGCTGAGACCGA\"\n",
    "\n",
    "primer3_4 = \"TGAGACTGCTGAGACCGA\"\n",
    "Full_4 = \"TTGAGAAGATAGACAGAATATGCGCGCGCCACCGGTTGATGTGATTGAGACTGCTGAGACCGA\"\n",
    "\n",
    "target = \"TGATGTGAT\"\n",
    "print(\"my primer 5' is\", primer5)"
   ]
  },
  {
   "cell_type": "markdown",
   "metadata": {},
   "source": [
    "## Define a function to find the primers in each amplified sequence\n",
    "\n",
    "The function takes a line of the file as the input and fisrt check for each base if it matches with the first primer base. If it matches, then looks if the entire primer sequence matches.\n",
    "\n",
    "Then open the file line by line to search for the primer sequence\n"
   ]
  },
  {
   "cell_type": "code",
   "execution_count": 5,
   "metadata": {
    "collapsed": true
   },
   "outputs": [],
   "source": [
    "## This is the function\n",
    "\n",
    "def find_Primers(dna,my_p5,my_p3):\n",
    "    p5=0; p3=0;\n",
    "    substr = my_p5;\n",
    "    for p in range(len(dna)):\n",
    "        if dna[p] == substr[0]:\n",
    "            if dna[p:p + len(substr)] == substr:\n",
    "                p5=p\n",
    "    substr = my_p3;\n",
    "    for p in range(len(dna)):\n",
    "        if dna[p] == substr[0]:\n",
    "            if dna[p:p + len(substr)] == substr:\n",
    "                p3=p + len(substr)\n",
    "    return p5, p3"
   ]
  },
  {
   "cell_type": "markdown",
   "metadata": {},
   "source": [
    "\n",
    "## Read the file and search line by line for the primers\n",
    "\n",
    "As the file contains the amplified sequence name and then the sequence in the next line read each pair-numbered line (in python would be even-numbered as it starts from 0)\n",
    "\n",
    "Using the function defined previously, search for both primers. The function returns the location of the most 5' and 3' locations of the primers, so the sequence can be spliced.\n",
    "\n",
    "### All sequences found, are appended to the list \"my_seqs\", which will be used for further analysis.\n",
    "### Find the proportion of Unmutated sequences in \"my_seqs\" and store it as a variable (\"No_mut\")\n",
    "\n",
    "\n",
    "\n",
    "(as a test print the fist 5 sequences found)"
   ]
  },
  {
   "cell_type": "code",
   "execution_count": 6,
   "metadata": {
    "scrolled": true
   },
   "outputs": [
    {
     "name": "stdout",
     "output_type": "stream",
     "text": [
      "line 1 TTGAGAAGATAGACAGAATATGCGCGCGCCACCGGTTGGTGATTGGAGTACTGCTGAGACCGA\n",
      "\n",
      "Number of unmutated targets = 1313   proportion is 0.1161\n",
      "\n",
      "Total number of targets is  11311\n"
     ]
    }
   ],
   "source": [
    "Amplicon6 = open(file= input_file)\n",
    "\n",
    "my_seqs = list()\n",
    "primer_ends = 0\n",
    "c=0 \n",
    "\n",
    "for i, line in enumerate(Amplicon6):\n",
    "    ## filter out all seqs with length less than 100\n",
    "    if (i % 2 != 0) and (len(line)>=100):\n",
    "        \n",
    "        ## primer 3_1\n",
    "        primer_ends = find_Primers(line,primer5,primer3_1)\n",
    "        if primer_ends != (0,0) :\n",
    "            s = line[primer_ends[0]:primer_ends[1]]\n",
    "            my_seqs.append(s); x = s.find(Full_1)\n",
    "            if x >= 0: c = c+1\n",
    "        ## primer 3_2\n",
    "        primer_ends = find_Primers(line,primer5,primer3_2)\n",
    "        if primer_ends != (0,0) :\n",
    "            s = line[primer_ends[0]:primer_ends[1]]\n",
    "            my_seqs.append(s); x = s.find(Full_2)\n",
    "            if x >= 0: c = c+1\n",
    "        ## primer 3_3\n",
    "        primer_ends = find_Primers(line,primer5,primer3_3)\n",
    "        if primer_ends != (0,0) :\n",
    "            s = line[primer_ends[0]:primer_ends[1]]\n",
    "            my_seqs.append(s); x = s.find(Full_3)\n",
    "            if x >= 0: c = c+1\n",
    "        ## primer 3_4\n",
    "        primer_ends = find_Primers(line,primer5,primer3_4)\n",
    "        if primer_ends != (0,0) :\n",
    "            s = line[primer_ends[0]:primer_ends[1]]\n",
    "            my_seqs.append(s); x = s.find(Full_4)\n",
    "            if x >= 0: c = c+1\n",
    "            \n",
    "                \n",
    "No_mut = c/len(my_seqs)\n",
    "            \n",
    "Amplicon6.close()\n",
    "\n",
    "for i in range(1): print(\"line\",i+1, my_seqs[i])\n",
    "\n",
    "print(\"\\nNumber of unmutated targets =\",c,\"  proportion is %.4g\" % (No_mut))\n",
    "print(\"\\nTotal number of targets is \", len(my_seqs))\n"
   ]
  },
  {
   "cell_type": "code",
   "execution_count": 7,
   "metadata": {
    "collapsed": true
   },
   "outputs": [],
   "source": [
    "#out1 = open(\"my_seqs.txt\",\"w\") \n",
    "#for index, item in enumerate(my_seqs): \n",
    "#    out1.write(my_seqs[index])\n",
    "#    out1.write(\"\\n\")\n",
    "#out1.close()"
   ]
  },
  {
   "cell_type": "markdown",
   "metadata": {},
   "source": [
    "\n",
    "## Define a function to search for the position of the primer\n",
    "\n",
    "#### The output of the function is the first nucleotide of the seq primer. This will be used to read the Nmers\n"
   ]
  },
  {
   "cell_type": "code",
   "execution_count": 8,
   "metadata": {
    "collapsed": true
   },
   "outputs": [],
   "source": [
    "def find_target(dna,myprimer3):\n",
    "    sub = None\n",
    "    substr = myprimer3\n",
    "    for p in range(len(dna)):\n",
    "        if dna[p] == substr[0]:\n",
    "            if dna[p:p + len(substr)] == substr:\n",
    "                sub=p\n",
    "    return sub"
   ]
  },
  {
   "cell_type": "markdown",
   "metadata": {},
   "source": [
    "# Get all possible sequences from the sequencing primer if you read 9bp from the 3' primer\n",
    "\n",
    "This is to know how many different deletions we have, and what is their distribution (e.g., is there one copy that is found in 25% of the sequences?\n"
   ]
  },
  {
   "cell_type": "code",
   "execution_count": 9,
   "metadata": {},
   "outputs": [
    {
     "name": "stdout",
     "output_type": "stream",
     "text": [
      "number of Nmers: 237 total: 11311 \n",
      "\n"
     ]
    }
   ],
   "source": [
    "Nmer_pb = 9 ## Number of nucleotides in the target\n",
    "N_unique = 0;\n",
    "c= 0;\n",
    "Nmer_LIST=list();\n",
    "## Search in all amplified sequences:\n",
    "for s in range(len(my_seqs)):\n",
    "    seq = my_seqs[s]\n",
    "    # primer 3_1\n",
    "    x = find_target(seq,primer3_1)\n",
    "    if x != None:             # if the primer can be found in the amplified sequence\n",
    "        c = c + 1; Nmer_LIST.append(seq[x-Nmer_pb:x])\n",
    "    # primer 3_2\n",
    "    x = find_target(seq,primer3_2)\n",
    "    if x != None:             # if the primer can be found in the amplified sequence\n",
    "        c = c + 1; Nmer_LIST.append(seq[x-Nmer_pb:x])\n",
    "    # primer 3_3\n",
    "    x = find_target(seq,primer3_3)\n",
    "    if x != None:             # if the primer can be found in the amplified sequence\n",
    "        c = c + 1; Nmer_LIST.append(seq[x-Nmer_pb:x])\n",
    "    # primer 3_4\n",
    "    x = find_target(seq,primer3_4)\n",
    "    if x != None:             # if the primer can be found in the amplified sequence\n",
    "        c = c + 1; Nmer_LIST.append(seq[x-Nmer_pb:x])\n",
    "\n",
    "UniqueNmers = set(Nmer_LIST)\n",
    "N_unique = len(UniqueNmers)\n",
    "\n",
    "Nmer_TOTALS = c;\n",
    "print(\"number of Nmers:\", len(UniqueNmers), \"total:\", Nmer_TOTALS,\"\\n\") \n",
    "#print(c, N_unique, UniqueNmers)\n"
   ]
  },
  {
   "cell_type": "code",
   "execution_count": 10,
   "metadata": {
    "collapsed": true
   },
   "outputs": [],
   "source": [
    "out2 = open(\"Fast_Embryo_ALL_Nmers.txt\",\"w\") \n",
    "\n",
    "for cm in range(len(Nmer_LIST)) : \n",
    "    out2.write(Nmer_LIST[cm])\n",
    "    out2.write(\"\\n\")\n",
    "out2.close()"
   ]
  },
  {
   "cell_type": "markdown",
   "metadata": {},
   "source": [
    "# Get the frequency of each of the Nmers for all the sites\n",
    "### Use the unmutated proportion of targets as a reference. The ideal would be to have the lowest possible frequency of the \"unmutated\" Nmer, and that get many mutated Nmers at a frequency that is informative"
   ]
  },
  {
   "cell_type": "code",
   "execution_count": 11,
   "metadata": {},
   "outputs": [
    {
     "name": "stdout",
     "output_type": "stream",
     "text": [
      "[[1, 1, 1, 1, 1, 1, 1, 1, 1, 1, 1, 1, 1, 1, 1, 1, 1, 1, 1, 1, 1, 1, 1, 1, 1, 1, 1, 1, 1, 1, 1, 1, 1, 1, 1, 1, 1, 1, 1, 1, 1, 1, 1, 1, 1, 1, 1, 1, 1, 1, 1, 1, 1, 1, 1, 1, 1, 1, 1, 1, 1, 1, 1, 1, 1, 1, 1, 1, 1, 1, 1, 1, 1, 1, 1, 1, 1, 1, 1, 1, 1, 1, 1, 1, 1, 1, 1, 1, 1, 1, 1, 1, 1, 1, 1, 1, 1, 1, 1, 1, 1, 1, 1, 1, 1, 1, 1, 1, 1, 1, 1, 2, 2, 2, 2, 2, 2, 2, 2, 2, 2, 2, 2, 2, 2, 2, 2, 2, 2, 2, 2, 2, 2, 2, 2, 3, 3, 3, 3, 3, 3, 3, 3, 3, 3, 3, 3, 3, 4, 4, 4, 5, 5, 5, 5, 6, 6, 6, 7, 7, 7, 7, 8, 8, 8, 9, 11, 11, 12, 13, 14, 15, 15, 18, 20, 20, 22, 22, 23, 23, 23, 25, 28, 29, 29, 30, 30, 31, 31, 34, 34, 34, 34, 36, 38, 40, 41, 41, 41, 42, 42, 43, 43, 43, 43, 43, 44, 44, 44, 48, 51, 51, 62, 62, 66, 80, 90, 91, 112, 122, 131, 156, 160, 248, 256, 284, 297, 315, 329, 346, 401, 430, 450, 500, 528, 1350, 2687]]\n"
     ]
    }
   ],
   "source": [
    "Sorted_Lists_Vals = list()\n",
    "Sorted_Lists_Labs = list()\n",
    "Original_Nmers = list()\n",
    "\n",
    "Unique_Nmer_freq= list()\n",
    "\n",
    "### Get the real Nmer\n",
    "Nmer_seq = target\n",
    "\n",
    "UniqueList = list(UniqueNmers)\n",
    "#print(\"for \", \"distance:\", len(UniqueList), \"\\n\") \n",
    "\n",
    "## The Nmer_List contains all Nmers, search the frequency of each unique Nmer (uniques are in UniqueList)\n",
    "Nmer_freq=list()\n",
    "for i in range(len(UniqueList)):\n",
    "    Unique_Nmer_freq.append([UniqueList[i],\n",
    "                  #           '{:04d}'.format(Nmer_LIST.count(UniqueList[i]))]\n",
    "                             Nmer_LIST.count(UniqueList[i])])\n",
    "    #print(Unique_Nmer_freq)\n",
    "Sorted_Unique = sorted(Unique_Nmer_freq, key=lambda Unique_Nmer_freq: Unique_Nmer_freq[1])\n",
    "Sorted_Unique_labs = [item[0] for item in Sorted_Unique]\n",
    "Sorted_Unique_vals = [item[1] for item in Sorted_Unique]\n",
    "\n",
    "Sorted_Lists_Vals.append(Sorted_Unique_vals)\n",
    "Sorted_Lists_Labs.append(Sorted_Unique_labs)\n",
    "   \n",
    "print(Sorted_Lists_Vals)\n",
    "#print(Sorted_Lists_Labs)\n"
   ]
  },
  {
   "cell_type": "markdown",
   "metadata": {},
   "source": [
    "## Plot all the Nmer freqs \n",
    "\n",
    "In the plot below, the frequency (Yaxis) of each Nmer (Xaxis) is shown. The Nmers are sorted from low to high frequency to see ir more clearly. In red we can see the proportion of Nmers with a sequence equal to the \"unmutated\" Nmer (Could be the unmutated or not).\n",
    "As a dashed vertical line, we can see the real proportion of unmutated sequences."
   ]
  },
  {
   "cell_type": "code",
   "execution_count": 12,
   "metadata": {
    "scrolled": true
   },
   "outputs": [
    {
     "name": "stdout",
     "output_type": "stream",
     "text": [
      "Freq of the most common Nmer: 0.238 \t the unmutated total: 1350 proportion : 0.11935\n"
     ]
    },
    {
     "data": {
      "image/png": "[encoded data removed]",
      "text/plain": [
       "<matplotlib.figure.Figure at 0x7fe55bd786d8>"
      ]
     },
     "metadata": {},
     "output_type": "display_data"
    }
   ],
   "source": [
    "Vals = Sorted_Lists_Vals[0]\n",
    "    \n",
    "Labs = Sorted_Lists_Labs[0]\n",
    "    \n",
    "Rel_Vals = list()\n",
    "for index, item in enumerate(Vals):\n",
    "    Rel_Vals.append(Vals[index]/Nmer_TOTALS)\n",
    "        \n",
    "plt.plot(Rel_Vals)\n",
    "plt.xlabel('Nmer rank index')\n",
    "plt.ylabel('freq')\n",
    "plt.title('Nmer Freq')\n",
    "plt.grid(True)\n",
    "#plt.axvline(x=Nmer90, ymin=0, ymax=1,linewidth=1, c='black', hold=None,linestyle=\"dashed\")\n",
    "\n",
    "plt.axhline(y=No_mut, xmin=0, xmax=1,linewidth=2, c='black', hold=None,linestyle=\"dashed\")\n",
    "## plot the sequence that is the same as the unmutated one\n",
    "for index, item in enumerate(Labs):\n",
    "    if item == target:\n",
    "        #ax.annotate(Nmer,(index,Vals[index]), size = 14,color = \"r\")\n",
    "        plt.scatter(index,Rel_Vals[index],s=30,c=\"r\")\n",
    "        if Rel_Vals[index] < 1 :\n",
    "            print(\"Freq of the most common Nmer: %.3g\" % (max(Vals)/Nmer_TOTALS),\n",
    "                  \"\\t the unmutated total:\", Vals[index],\"proportion : %.5g\" % (Vals[index]/Nmer_TOTALS) )\n",
    "\n",
    "ax = plt.gca()\n",
    "\n",
    "plt.show()"
   ]
  },
  {
   "cell_type": "markdown",
   "metadata": {},
   "source": [
    "\n",
    "## Barcode for SOLiD sequencing\n",
    "\n",
    "The different combinations of Nmers can be used to make \"extended primers\", starting at position 3 (as explained above) together with the Nmer.\n",
    "The ideal would be to generate these extended primers together with a barcode so that the barcode is read as a color with SOLiD sequencing.\n",
    "As we know the frequencies of each Nmer, we can assign the barcodes to each of them so the color frequencies are homogeneous.\n",
    "Importantly, we would ignore the unmutated Nmer, so the \"blank\" read would be as a fifth color state.\n",
    "\n",
    "For the barcode assignement we should the consider how many of the Nmers we would like to use, because is not practical to produce >200 primers if most of them would only would appear with a probability of >0.001 (for example).\n"
   ]
  },
  {
   "cell_type": "code",
   "execution_count": 13,
   "metadata": {
    "collapsed": true
   },
   "outputs": [],
   "source": [
    "Tot_Nmers = None        ## this variable will have the total number of Nmers, after removing the unmutated ones\n",
    "#print(\"original Nmer = \", Nmer)\n",
    "\n",
    "## To delete the unmutated sequences from the lists and calculate the new total number of Nmers\n",
    "for index, item in enumerate(Labs):\n",
    "        if item == target:\n",
    "            Tot_Nmers = Nmer_TOTALS - Vals[index]\n",
    "            #print(\"New number of total nmers =\", Tot_Nmers)\n",
    "            del Vals[index]\n",
    "            del Labs[index]\n",
    "\n",
    "for index, item in enumerate(Vals):\n",
    "        Vals[index] = (Vals[index]/Tot_Nmers)"
   ]
  },
  {
   "cell_type": "markdown",
   "metadata": {},
   "source": [
    "#### Plot the cumulative probability of all the Nmers, after removing the unmutated sequences"
   ]
  },
  {
   "cell_type": "code",
   "execution_count": 14,
   "metadata": {},
   "outputs": [
    {
     "name": "stdout",
     "output_type": "stream",
     "text": [
      "to get 90% we need at least 42 Nmers\n",
      "to get 95% we need at least 59 Nmers\n",
      "to get 99% we need at least 137 Nmers\n"
     ]
    },
    {
     "data": {
      "image/png": "[encoded data removed]",
      "text/plain": [
       "<matplotlib.figure.Figure at 0x7fe55b8d9fd0>"
      ]
     },
     "metadata": {},
     "output_type": "display_data"
    }
   ],
   "source": [
    "plt.figure(figsize=(4,2))\n",
    "cumulative = np.cumsum( sorted(Vals, reverse=True))\n",
    "plt.plot(cumulative)\n",
    "Nmer90 = None\n",
    "Nmer95 = None\n",
    "Nmer99 = None\n",
    "for index, item in enumerate(cumulative):\n",
    "    if item >= 0.90 and Nmer90 == None:\n",
    "            print (\"to get 90% we need at least\", index+1, \"Nmers\")\n",
    "            Nmer90 = index+1\n",
    "    if item >= 0.95 and Nmer95 == None:\n",
    "            print (\"to get 95% we need at least\", index+1, \"Nmers\")\n",
    "            Nmer95 = index+1 \n",
    "    if item >= 0.99 and Nmer99 == None:\n",
    "            print (\"to get 99% we need at least\", index+1, \"Nmers\")\n",
    "            Nmer99 = index+1\n",
    "\n",
    "plt.xlabel('9mer rank index')\n",
    "plt.ylabel('Cumulative Probability')\n",
    "plt.title('Probability of 9mers')\n",
    "plt.grid(True,axis='both', linestyle= 'dashed')\n",
    "#plt.axvline(x=Nmer90, ymin=0, ymax=1,linewidth=1, c='black', hold=None,linestyle=\"dashed\")\n",
    "#plt.axvline(x=Nmer95, ymin=0, ymax=1,linewidth=1.5, c='black', hold=None,linestyle=\"dashed\")\n",
    "plt.axhline(y=0.95, xmin=0, xmax=1,linewidth=1.5, c='black', hold=None,linestyle=\"dashed\")\n",
    "#plt.axvline(x=Nmer99, ymin=0, ymax=1,linewidth=2, c='black', hold=None,linestyle=\"dashed\")\n",
    "\n",
    "ax = plt.gca()\n",
    "ax.set_ylim([0,1.05])\n",
    "ax.set_xlim([0,245])\n",
    "\n",
    "plt.savefig(\"9mer_Cumprob.svg\")\n",
    "plt.show()"
   ]
  },
  {
   "cell_type": "markdown",
   "metadata": {},
   "source": [
    "### Discusion:\n",
    "#### From the results, it seems that we could use 59 Nmers to make primers, as with that number we would recover 95% of the deletions. Now, the \"colors\" or 4 different states should be assigned to each Nmer, so that in total, the probability for each color is more or less the same. One color would be assigned only to the most common Nmer, which has a probability of > 0.25. The rest of the Nmers would be assigned a color trying to have them in equal probabilities\n"
   ]
  },
  {
   "cell_type": "code",
   "execution_count": 15,
   "metadata": {},
   "outputs": [
    {
     "name": "stdout",
     "output_type": "stream",
     "text": [
      "Cum Prob of color 1 is 0.269752032928\n",
      "Cum Prob of color 2 is 0.227587591607\n",
      "Cum Prob of color 3 is 0.227587591607\n",
      "Cum Prob of color 4 is 0.226884850919\n"
     ]
    }
   ],
   "source": [
    "ii = len(Vals)-1\n",
    "\n",
    "c = 1\n",
    "cc= 1\n",
    "t = 0.95\n",
    "nc = 4\n",
    "\n",
    "## Make a list for each color, of all the barcodes that will be associated to it, so we have uniform freqs\n",
    "B_probs = list()\n",
    "G_probs = list()\n",
    "Y_probs = list()\n",
    "R_probs = list() \n",
    "\n",
    "all_C = numpy.zeros(4) # Here I will store the cumulative probability of each color\n",
    "\n",
    "for i in range(Nmer95):\n",
    "    \n",
    "    if c > 4 : c = cc\n",
    "    if c == 1 : B_probs.append(str(Labs[ii-i]) + str(\"\\t\") + str('{0:.4f}'.format(Vals[ii-i])))\n",
    "    if c == 2 : G_probs.append(str(Labs[ii-i]) + str(\"\\t\") + str('{0:.4f}'.format(Vals[ii-i])))\n",
    "    if c == 3 : Y_probs.append(str(Labs[ii-i]) + str(\"\\t\") + str('{0:.4f}'.format(Vals[ii-i])))\n",
    "    if c == 4 : R_probs.append(str(Labs[ii-i]) + str(\"\\t\") + str('{0:.4f}'.format(Vals[ii-i])))\n",
    "    \n",
    "    all_C[c-1] = all_C[c-1] + Vals[ii-i]\n",
    "    \n",
    "    #print(\"Color\", c, \"Barcode\", Labs[ii-i], Vals[ii-i], all_C[c-1], \"total\", t, \"max prop = \", t/nc )\n",
    "    \n",
    "    if all_C[c-1] >= t/nc and nc >= 1:\n",
    "        print(\"Cum Prob of color\", c, \"is\", all_C[c-1])    \n",
    "        t = t - all_C[c-1]\n",
    "        nc = nc-1\n",
    "        cc = cc + 1\n",
    "    c= c+1\n",
    "#print(all_C)\n",
    "#print(Y_probs)"
   ]
  },
  {
   "cell_type": "markdown",
   "metadata": {},
   "source": [
    "### Plot the cumulative probability for each color and the number of Nmers assigned to each"
   ]
  },
  {
   "cell_type": "code",
   "execution_count": 16,
   "metadata": {},
   "outputs": [
    {
     "data": {
      "image/png": "[encoded data removed]",
      "text/plain": [
       "<matplotlib.figure.Figure at 0x7fe5585812b0>"
      ]
     },
     "metadata": {},
     "output_type": "display_data"
    }
   ],
   "source": [
    "width = 1/1.5\n",
    "x = np.arange(len(all_C))\n",
    "plt.bar( x, all_C, width, color=[\"blue\", \"green\", \"yellow\", \"red\"])\n",
    "\n",
    "ax = plt.gca()\n",
    "ax.set_ylim([0,0.3])\n",
    "\n",
    "\n",
    "plt.xticks(x,\"\")\n",
    "\n",
    "ax.annotate(\"N = %d\"% (len(B_probs)),(0.1,0.3), size = 16,color = \"b\")\n",
    "ax.annotate(\"N = %d\"% (len(G_probs)),(1.1,0.3), size = 16,color = \"g\")\n",
    "ax.annotate(\"N = %d\"% (len(Y_probs)),(2.1,0.3), size = 16,color = \"y\")\n",
    "ax.annotate(\"N = %d\"% (len(R_probs)),(3.1,0.3), size = 16,color = \"r\")\n",
    "\n",
    "plt.show()"
   ]
  },
  {
   "cell_type": "markdown",
   "metadata": {},
   "source": [
    "### Write into a file the list for all Nmers assigned to each color for the SOLiD sequencing"
   ]
  },
  {
   "cell_type": "code",
   "execution_count": 17,
   "metadata": {
    "collapsed": true
   },
   "outputs": [],
   "source": [
    "out = open(\"Fast_Embryo_SeqError_corrected_Nmers.txt\",\"w\") \n",
    " \n",
    "out.write(\"COLOR\\t\" + \"Nmer\\t\" + \"Freq\\n\")\n",
    "for index, item in enumerate(B_probs): \n",
    "    out.write(\"BLUE\" + str(\"\\t\") + B_probs[index])\n",
    "    out.write(\"\\n\")\n",
    "#out.write(\"\\n>GREEN\\n\")\n",
    "for index, item in enumerate(G_probs): \n",
    "    out.write(\"GREEN\" + str(\"\\t\") + G_probs[index])\n",
    "    out.write(\"\\n\")\n",
    "#out.write(\"\\n>YELLOW\\n\")\n",
    "for index, item in enumerate(Y_probs): \n",
    "    out.write(\"YELLOW\" + str(\"\\t\") + Y_probs[index])\n",
    "    out.write(\"\\n\")\n",
    "#out.write(\"\\n>RED\\n\")\n",
    "for index, item in enumerate(R_probs): \n",
    "    out.write(\"RED\" + str(\"\\t\") + R_probs[index])\n",
    "    out.write(\"\\n\")\n",
    "out.close()"
   ]
  },
  {
   "cell_type": "markdown",
   "metadata": {},
   "source": [
    "# I can perform a simulation with the following parameters based on the analysis:\n",
    "\n",
    "#### Probability of a mutation (After N cell cycles):\n",
    "OBSERVED IN TOTAL CONSTRUCT (1 - unmutated proportion) = 1- 0.1161 = 0.8839 \n",
    "\n",
    "APROXIMATION USING NMERS    (1- unmutated Nmer )      = 1 - 0.11935 \n",
    "####                                    Mu_rate = 0.88065\n",
    "\n",
    "## SEQ ERROR CORRECTION (from Fast_Untargeted_Seq_Error_Correction)\n",
    "\n",
    "Corrected Mu_rate = Unmutated - Seq_Error = 0.88065 - 0.0111 \n",
    "#### Corrected Mu_rate = 0.86955\n",
    "\n",
    "\n",
    "## Number of Nmers (10pb) after primer position to get 95% of the deletions:\n",
    "59\n",
    "\n",
    "## Probability of each Nmer, from the exported file\n",
    "\n",
    "\n",
    "## Mutation rate per cell division (from Fast_sequence_Embryo_Mutation_Rate:\n",
    "\n",
    "From the plot we can establish the mutation rate necessary to produce the observed deletions.\n",
    "\n",
    "As we are not sure of when the deletions start (one possibility is around cell division 4-5, when the Maternal Zygotic transition begins), I will simulate different number of cell divisions:\n",
    "\n",
    "\n",
    "\n",
    "\n",
    "|  Cell Cycle  | Mutation Rate  |\n",
    "|--------------|----------------|\n",
    "|     11       |      0.169     |\n",
    "|     12       |      0.156     |\n",
    "|     13       |      0.145     |\n",
    "|     14       |      0.1355    |\n",
    "|     15       |      0.127     |\n",
    "|     16       |      0.1195    |\n",
    "|     17       |      0.113     |\n",
    "\n"
   ]
  }
 ],
 "metadata": {
  "kernelspec": {
   "display_name": "Python 3",
   "language": "python",
   "name": "python3"
  },
  "language_info": {
   "codemirror_mode": {
    "name": "ipython",
    "version": 3
   },
   "file_extension": ".py",
   "mimetype": "text/x-python",
   "name": "python",
   "nbconvert_exporter": "python",
   "pygments_lexer": "ipython3",
   "version": "3.6.1"
  }
 },
 "nbformat": 4,
 "nbformat_minor": 2
}
